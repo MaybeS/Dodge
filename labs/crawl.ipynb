{
 "cells": [
  {
   "cell_type": "code",
   "execution_count": 124,
   "metadata": {},
   "outputs": [],
   "source": [
    "from redis import Redis"
   ]
  },
  {
   "cell_type": "code",
   "execution_count": 125,
   "metadata": {},
   "outputs": [],
   "source": [
    "c = Redis()"
   ]
  },
  {
   "cell_type": "code",
   "execution_count": 127,
   "metadata": {},
   "outputs": [
    {
     "data": {
      "text/plain": [
       "True"
      ]
     },
     "execution_count": 127,
     "metadata": {},
     "output_type": "execute_result"
    }
   ],
   "source": [
    "c.set('crawl-queue', json.dumps(['Maydev']))"
   ]
  },
  {
   "cell_type": "code",
   "execution_count": 128,
   "metadata": {},
   "outputs": [
    {
     "data": {
      "text/plain": [
       "b'[\"Maydev\"]'"
      ]
     },
     "execution_count": 128,
     "metadata": {},
     "output_type": "execute_result"
    }
   ],
   "source": [
    "c.get('crawl-queue')"
   ]
  },
  {
   "cell_type": "code",
   "execution_count": 129,
   "metadata": {},
   "outputs": [],
   "source": [
    "from queue import Queue"
   ]
  },
  {
   "cell_type": "code",
   "execution_count": 131,
   "metadata": {},
   "outputs": [],
   "source": [
    "q = Queue()"
   ]
  },
  {
   "cell_type": "code",
   "execution_count": 135,
   "metadata": {},
   "outputs": [],
   "source": [
    "while q.qsize():\n",
    "    print(q.get())"
   ]
  },
  {
   "cell_type": "code",
   "execution_count": null,
   "metadata": {},
   "outputs": [],
   "source": []
  },
  {
   "cell_type": "code",
   "execution_count": 77,
   "metadata": {},
   "outputs": [],
   "source": [
    "import json\n",
    "\n",
    "from redis import Redis\n",
    "\n",
    "\n",
    "class Connection:\n",
    "    def __init__(self):\n",
    "        self.connector = Redis()\n",
    "\n",
    "    def get_champion(self, champion: str):\n",
    "        prefix = 'champion'\n",
    "        return type('OBJECT', (object,), json.loads(\n",
    "            self.connector.get(f'{prefix}:{champion}')))\n",
    "\n",
    "    def get_summoner(self, summoner: str):\n",
    "        prefix = 'summoner'\n",
    "        return type('OBJECT', (object,), json.loads(\n",
    "            self.connector.get(f'{prefix}:{summoner}')))\n",
    "\n",
    "    def get_summoner_champion(self, summoner: str, champion: str):\n",
    "        prefix = 'summoner-champion-'\n",
    "        return type('OBJECT', (object,), json.loads(\n",
    "            self.connector.get(f'{prefix}{summoner}:{champion}')))\n",
    "\n",
    "    def set_champion(self, champion: str, data: object):\n",
    "        prefix = 'champion'\n",
    "        self.connector.set(f'{prefix}:{champion}', json.dumps(data))\n",
    "    \n",
    "    def set_champions(self, champions: dict):\n",
    "        prefix = 'champion'\n",
    "        self.connector.mset(\n",
    "            {f'{prefix}:{key}': value for key, value in champions})\n",
    "\n",
    "    def set_summoner(self, champion: str, data: object):\n",
    "        prefix = 'summoner'\n",
    "        self.connector.set(f'{prefix}:{summoner}', json.dumps(data))\n",
    "\n",
    "    def set_summoners(self, summoners: dict):\n",
    "        prefix = 'summoner'\n",
    "        self.connector.mset(\n",
    "            {f'{prefix}:{key}': value for key, value in champions})\n",
    "\n",
    "    def set_summoner_champion(self, summoner:str, champion: str, data: object):\n",
    "        prefix = 'summoner-champion-'\n",
    "        self.connector.set(f'{prefix}{summoner}:{champion}', json.dumps(data))\n",
    "\n",
    "    def set_summoner_champions(self, summoner:str, champions: dict):\n",
    "        prefix = 'summoner-champion'\n",
    "        self.connector.mset(\n",
    "            {f'{prefix}{summoner}:{key}': value for key, value in champions})\n",
    "\n",
    "    @property\n",
    "    def champions(self):\n",
    "        prefix = 'champion'\n",
    "        for champion in self.connector.scan_iter(f'{prefix}:*'):\n",
    "            yield champion[len(prefix) + 1:]\n",
    "\n",
    "    @property\n",
    "    def summoners(self):\n",
    "        prefix = 'summoner'\n",
    "        for summoner in self.connector.scan_iter(f'{prefix}:*'):\n",
    "            yield summoner[len(prefix) + 1:]\n",
    "\n",
    "    @property\n",
    "    def summoner_champions(self, summoner: str):\n",
    "        prefix = 'summoner-champion-'\n",
    "        for champion in self.connector.scan_iter(f'{prefix}{summoner}:*'):\n",
    "            yield champion[len(prefix) + 1:]"
   ]
  },
  {
   "cell_type": "code",
   "execution_count": 78,
   "metadata": {},
   "outputs": [],
   "source": [
    "connector = Connection()"
   ]
  },
  {
   "cell_type": "code",
   "execution_count": 96,
   "metadata": {},
   "outputs": [
    {
     "ename": "TypeError",
     "evalue": "the JSON object must be str, bytes or bytearray, not NoneType",
     "output_type": "error",
     "traceback": [
      "\u001b[0;31m---------------------------------------------------------------------------\u001b[0m",
      "\u001b[0;31mTypeError\u001b[0m                                 Traceback (most recent call last)",
      "\u001b[0;32m<ipython-input-96-9f9c0bbff12c>\u001b[0m in \u001b[0;36m<module>\u001b[0;34m\u001b[0m\n\u001b[0;32m----> 1\u001b[0;31m \u001b[0mconnector\u001b[0m\u001b[0;34m.\u001b[0m\u001b[0mget_summoner\u001b[0m\u001b[0;34m(\u001b[0m\u001b[0;34m'Maydev'\u001b[0m\u001b[0;34m)\u001b[0m\u001b[0;34m.\u001b[0m\u001b[0mwins\u001b[0m\u001b[0;34m\u001b[0m\u001b[0;34m\u001b[0m\u001b[0m\n\u001b[0m",
      "\u001b[0;32m<ipython-input-77-415844672666>\u001b[0m in \u001b[0;36mget_summoner\u001b[0;34m(self, summoner)\u001b[0m\n\u001b[1;32m     16\u001b[0m         \u001b[0mprefix\u001b[0m \u001b[0;34m=\u001b[0m \u001b[0;34m'summoner'\u001b[0m\u001b[0;34m\u001b[0m\u001b[0;34m\u001b[0m\u001b[0m\n\u001b[1;32m     17\u001b[0m         return type('OBJECT', (object,), json.loads(\n\u001b[0;32m---> 18\u001b[0;31m             self.connector.get(f'{prefix}:{summoner}')))\n\u001b[0m\u001b[1;32m     19\u001b[0m \u001b[0;34m\u001b[0m\u001b[0m\n\u001b[1;32m     20\u001b[0m     \u001b[0;32mdef\u001b[0m \u001b[0mget_summoner_champion\u001b[0m\u001b[0;34m(\u001b[0m\u001b[0mself\u001b[0m\u001b[0;34m,\u001b[0m \u001b[0msummoner\u001b[0m\u001b[0;34m:\u001b[0m \u001b[0mstr\u001b[0m\u001b[0;34m,\u001b[0m \u001b[0mchampion\u001b[0m\u001b[0;34m:\u001b[0m \u001b[0mstr\u001b[0m\u001b[0;34m)\u001b[0m\u001b[0;34m:\u001b[0m\u001b[0;34m\u001b[0m\u001b[0;34m\u001b[0m\u001b[0m\n",
      "\u001b[0;32m~/opt/anaconda3/lib/python3.7/json/__init__.py\u001b[0m in \u001b[0;36mloads\u001b[0;34m(s, encoding, cls, object_hook, parse_float, parse_int, parse_constant, object_pairs_hook, **kw)\u001b[0m\n\u001b[1;32m    339\u001b[0m     \u001b[0;32melse\u001b[0m\u001b[0;34m:\u001b[0m\u001b[0;34m\u001b[0m\u001b[0;34m\u001b[0m\u001b[0m\n\u001b[1;32m    340\u001b[0m         \u001b[0;32mif\u001b[0m \u001b[0;32mnot\u001b[0m \u001b[0misinstance\u001b[0m\u001b[0;34m(\u001b[0m\u001b[0ms\u001b[0m\u001b[0;34m,\u001b[0m \u001b[0;34m(\u001b[0m\u001b[0mbytes\u001b[0m\u001b[0;34m,\u001b[0m \u001b[0mbytearray\u001b[0m\u001b[0;34m)\u001b[0m\u001b[0;34m)\u001b[0m\u001b[0;34m:\u001b[0m\u001b[0;34m\u001b[0m\u001b[0;34m\u001b[0m\u001b[0m\n\u001b[0;32m--> 341\u001b[0;31m             raise TypeError(f'the JSON object must be str, bytes or bytearray, '\n\u001b[0m\u001b[1;32m    342\u001b[0m                             f'not {s.__class__.__name__}')\n\u001b[1;32m    343\u001b[0m         \u001b[0ms\u001b[0m \u001b[0;34m=\u001b[0m \u001b[0ms\u001b[0m\u001b[0;34m.\u001b[0m\u001b[0mdecode\u001b[0m\u001b[0;34m(\u001b[0m\u001b[0mdetect_encoding\u001b[0m\u001b[0;34m(\u001b[0m\u001b[0ms\u001b[0m\u001b[0;34m)\u001b[0m\u001b[0;34m,\u001b[0m \u001b[0;34m'surrogatepass'\u001b[0m\u001b[0;34m)\u001b[0m\u001b[0;34m\u001b[0m\u001b[0;34m\u001b[0m\u001b[0m\n",
      "\u001b[0;31mTypeError\u001b[0m: the JSON object must be str, bytes or bytearray, not NoneType"
     ]
    }
   ],
   "source": [
    "connector.get_summoner('Maydev').wins"
   ]
  },
  {
   "cell_type": "code",
   "execution_count": 95,
   "metadata": {},
   "outputs": [],
   "source": [
    "for key in connector.connector.scan_iter('*'):\n",
    "    print(key)\n",
    "    connector.connector.delete(key)"
   ]
  },
  {
   "cell_type": "code",
   "execution_count": null,
   "metadata": {},
   "outputs": [],
   "source": []
  },
  {
   "cell_type": "code",
   "execution_count": null,
   "metadata": {},
   "outputs": [],
   "source": [
    "for key in connector.summoner_champions():\n",
    "    connector.connector.delete(f'summoner:{key}')"
   ]
  },
  {
   "cell_type": "code",
   "execution_count": 91,
   "metadata": {},
   "outputs": [],
   "source": [
    "for key in connector.summoners:\n",
    "    connector.connector.delete(f'summoner:{key}')"
   ]
  },
  {
   "cell_type": "code",
   "execution_count": null,
   "metadata": {},
   "outputs": [],
   "source": []
  },
  {
   "cell_type": "code",
   "execution_count": null,
   "metadata": {},
   "outputs": [],
   "source": [
    "connector.delete('')"
   ]
  },
  {
   "cell_type": "code",
   "execution_count": 85,
   "metadata": {},
   "outputs": [
    {
     "data": {
      "text/plain": [
       "164"
      ]
     },
     "execution_count": 85,
     "metadata": {},
     "output_type": "execute_result"
    }
   ],
   "source": [
    "summoner.wins"
   ]
  },
  {
   "cell_type": "code",
   "execution_count": null,
   "metadata": {},
   "outputs": [],
   "source": []
  },
  {
   "cell_type": "code",
   "execution_count": 57,
   "metadata": {},
   "outputs": [
    {
     "data": {
      "text/plain": [
       "True"
      ]
     },
     "execution_count": 57,
     "metadata": {},
     "output_type": "execute_result"
    }
   ],
   "source": [
    "r.mset({f'summoner-champion-{summoner.name}:{champion}': champion.serialize() for champion in summoner.champions})"
   ]
  },
  {
   "cell_type": "code",
   "execution_count": 52,
   "metadata": {},
   "outputs": [],
   "source": [
    "summoner_name = summoner.name"
   ]
  },
  {
   "cell_type": "code",
   "execution_count": 53,
   "metadata": {},
   "outputs": [
    {
     "data": {
      "text/plain": [
       "b'{\"mmr\": 1340, \"wins\": 164, \"losses\": 171}'"
      ]
     },
     "execution_count": 53,
     "metadata": {},
     "output_type": "execute_result"
    }
   ],
   "source": [
    "r.get(f'summoner:{summoner_name}')"
   ]
  },
  {
   "cell_type": "code",
   "execution_count": 59,
   "metadata": {},
   "outputs": [
    {
     "data": {
      "text/plain": [
       "b'summoner-champion-Maydev:Lucian'"
      ]
     },
     "execution_count": 59,
     "metadata": {},
     "output_type": "execute_result"
    }
   ],
   "source": [
    "champ"
   ]
  },
  {
   "cell_type": "code",
   "execution_count": 58,
   "metadata": {},
   "outputs": [
    {
     "name": "stdout",
     "output_type": "stream",
     "text": [
      "{'name': 'Sett', 'wins': 1, 'losses': 0, 'KDA': [5.0, 7.0, 17.0], 'gold': 10123, 'cs': 48.0, 'max_kill': 5, 'max_death': 7, 'ADD': 46352, 'ADT': 28526, 'double_kill': 0, 'triple_kill': 0, 'quadra_kill': 0, 'penta_kill': 0}\n",
      "{'name': 'Tristana', 'wins': 0, 'losses': 1, 'KDA': [1.0, 7.0, 8.0], 'gold': 8755, 'cs': 171.0, 'max_kill': 1, 'max_death': 7, 'ADD': 102261, 'ADT': 15798, 'double_kill': 0, 'triple_kill': 0, 'quadra_kill': 0, 'penta_kill': 0}\n",
      "{'name': 'Akali', 'wins': 6, 'losses': 13, 'KDA': [3.1, 5.7, 4.8], 'gold': 9179, 'cs': 163.1, 'max_kill': 9, 'max_death': 12, 'ADD': 103381, 'ADT': 20930, 'double_kill': 3, 'triple_kill': 0, 'quadra_kill': 0, 'penta_kill': 0}\n",
      "{'name': 'Pyke', 'wins': 0, 'losses': 1, 'KDA': [7.0, 11.0, 9.0], 'gold': 13194, 'cs': 62.0, 'max_kill': 7, 'max_death': 11, 'ADD': 39182, 'ADT': 25053, 'double_kill': 1, 'triple_kill': 0, 'quadra_kill': 0, 'penta_kill': 0}\n",
      "{'name': 'Morgana', 'wins': 7, 'losses': 6, 'KDA': [3.2, 6.5, 13.0], 'gold': 8993, 'cs': 36.8, 'max_kill': 7, 'max_death': 12, 'ADD': 42210, 'ADT': 16836, 'double_kill': 0, 'triple_kill': 0, 'quadra_kill': 0, 'penta_kill': 0}\n",
      "{'name': 'Mordekaiser', 'wins': 1, 'losses': 3, 'KDA': [3.0, 6.0, 4.3], 'gold': 10736, 'cs': 200.3, 'max_kill': 5, 'max_death': 8, 'ADD': 141329, 'ADT': 27056, 'double_kill': 1, 'triple_kill': 0, 'quadra_kill': 0, 'penta_kill': 0}\n",
      "{'name': 'LeBlanc', 'wins': 5, 'losses': 10, 'KDA': [6.2, 4.9, 7.8], 'gold': 10702, 'cs': 158.0, 'max_kill': 14, 'max_death': 9, 'ADD': 107255, 'ADT': 19985, 'double_kill': 6, 'triple_kill': 0, 'quadra_kill': 0, 'penta_kill': 0}\n",
      "{'name': 'Senna', 'wins': 8, 'losses': 11, 'KDA': [2.4, 5.3, 9.2], 'gold': 7292, 'cs': 30.7, 'max_kill': 8, 'max_death': 11, 'ADD': 37522, 'ADT': 12340, 'double_kill': 5, 'triple_kill': 0, 'quadra_kill': 0, 'penta_kill': 0}\n",
      "{'name': 'Pantheon', 'wins': 130, 'losses': 113, 'KDA': [6.9, 5.3, 7.9], 'gold': 10879, 'cs': 155.1, 'max_kill': 17, 'max_death': 14, 'ADD': 108473, 'ADT': 20992, 'double_kill': 141, 'triple_kill': 16, 'quadra_kill': 1, 'penta_kill': 0}\n",
      "{'name': 'Yasuo', 'wins': 8, 'losses': 13, 'KDA': [4.5, 6.0, 5.7], 'gold': 11570, 'cs': 218.0, 'max_kill': 13, 'max_death': 13, 'ADD': 169475, 'ADT': 18472, 'double_kill': 8, 'triple_kill': 2, 'quadra_kill': 0, 'penta_kill': 0}\n",
      "{'name': 'Leona', 'wins': 1, 'losses': 0, 'KDA': [2.0, 9.0, 24.0], 'gold': 9158, 'cs': 36.0, 'max_kill': 2, 'max_death': 9, 'ADD': 28882, 'ADT': 20365, 'double_kill': 0, 'triple_kill': 0, 'quadra_kill': 0, 'penta_kill': 0}\n",
      "{'name': 'Caitlyn', 'wins': 0, 'losses': 1, 'KDA': [1.0, 7.0, 5.0], 'gold': 7547, 'cs': 154.0, 'max_kill': 1, 'max_death': 7, 'ADD': 96053, 'ADT': 14364, 'double_kill': 0, 'triple_kill': 0, 'quadra_kill': 0, 'penta_kill': 0}\n",
      "{'name': 'Master Yi', 'wins': 1, 'losses': 0, 'KDA': [0.0, 8.0, 11.0], 'gold': 9573, 'cs': 160.0, 'max_kill': 0, 'max_death': 8, 'ADD': 150143, 'ADT': 30946, 'double_kill': 0, 'triple_kill': 0, 'quadra_kill': 0, 'penta_kill': 0}\n",
      "{'name': 'Yuumi', 'wins': 0, 'losses': 1, 'KDA': [5.0, 9.0, 15.0], 'gold': 10887, 'cs': 21.0, 'max_kill': 5, 'max_death': 9, 'ADD': 36450, 'ADT': 17733, 'double_kill': 0, 'triple_kill': 0, 'quadra_kill': 0, 'penta_kill': 0}\n",
      "{'name': 'Poppy', 'wins': 1, 'losses': 1, 'KDA': [5.0, 4.5, 6.0], 'gold': 8803, 'cs': 132.5, 'max_kill': 8, 'max_death': 6, 'ADD': 114811, 'ADT': 18470, 'double_kill': 0, 'triple_kill': 0, 'quadra_kill': 0, 'penta_kill': 0}\n",
      "{'name': 'Lux', 'wins': 6, 'losses': 1, 'KDA': [3.4, 5.6, 12.7], 'gold': 9105, 'cs': 53.4, 'max_kill': 6, 'max_death': 8, 'ADD': 66815, 'ADT': 11349, 'double_kill': 1, 'triple_kill': 0, 'quadra_kill': 0, 'penta_kill': 0}\n",
      "{'name': 'Lucian', 'wins': 0, 'losses': 1, 'KDA': [1.0, 11.0, 0.0], 'gold': 5143, 'cs': 85.0, 'max_kill': 1, 'max_death': 11, 'ADD': 38177, 'ADT': 15058, 'double_kill': 0, 'triple_kill': 0, 'quadra_kill': 0, 'penta_kill': 0}\n"
     ]
    }
   ],
   "source": [
    "for champ in r.scan_iter(f'summoner-champion-{summoner_name}:*'):\n",
    "    print(json.loads(r.get(champ)))"
   ]
  },
  {
   "cell_type": "code",
   "execution_count": null,
   "metadata": {},
   "outputs": [],
   "source": []
  },
  {
   "cell_type": "code",
   "execution_count": null,
   "metadata": {},
   "outputs": [],
   "source": []
  },
  {
   "cell_type": "code",
   "execution_count": 32,
   "metadata": {
    "collapsed": true,
    "jupyter": {
     "outputs_hidden": true
    }
   },
   "outputs": [
    {
     "data": {
      "text/plain": [
       "{'mmr': 1375,\n",
       " 'wins': 36,\n",
       " 'losses': 36,\n",
       " 'champions': [{'name': 'Jarvan IV',\n",
       "   'wins': 10,\n",
       "   'losses': 6,\n",
       "   'KDA': [3.4, 5.0, 14.3],\n",
       "   'gold': 9688,\n",
       "   'cs': 127.4,\n",
       "   'max_kill': 8,\n",
       "   'max_death': 10,\n",
       "   'ADD': 117709,\n",
       "   'ADT': 26420,\n",
       "   'double_kill': 4,\n",
       "   'triple_kill': 0,\n",
       "   'quadra_kill': 0,\n",
       "   'penta_kill': 0},\n",
       "  {'name': 'Renekton',\n",
       "   'wins': 7,\n",
       "   'losses': 6,\n",
       "   'KDA': [4.7, 4.8, 5.2],\n",
       "   'gold': 11091,\n",
       "   'cs': 189.5,\n",
       "   'max_kill': 15,\n",
       "   'max_death': 11,\n",
       "   'ADD': 132384,\n",
       "   'ADT': 26351,\n",
       "   'double_kill': 1,\n",
       "   'triple_kill': 0,\n",
       "   'quadra_kill': 0,\n",
       "   'penta_kill': 0},\n",
       "  {'name': 'Diana',\n",
       "   'wins': 7,\n",
       "   'losses': 4,\n",
       "   'KDA': [7.7, 4.9, 7.1],\n",
       "   'gold': 11234,\n",
       "   'cs': 153.5,\n",
       "   'max_kill': 14,\n",
       "   'max_death': 13,\n",
       "   'ADD': 129630,\n",
       "   'ADT': 22348,\n",
       "   'double_kill': 13,\n",
       "   'triple_kill': 2,\n",
       "   'quadra_kill': 1,\n",
       "   'penta_kill': 0},\n",
       "  {'name': 'Varus',\n",
       "   'wins': 6,\n",
       "   'losses': 4,\n",
       "   'KDA': [9.3, 5.7, 8.8],\n",
       "   'gold': 12772,\n",
       "   'cs': 188.9,\n",
       "   'max_kill': 16,\n",
       "   'max_death': 11,\n",
       "   'ADD': 143430,\n",
       "   'ADT': 20542,\n",
       "   'double_kill': 10,\n",
       "   'triple_kill': 1,\n",
       "   'quadra_kill': 0,\n",
       "   'penta_kill': 0},\n",
       "  {'name': 'Zoe',\n",
       "   'wins': 2,\n",
       "   'losses': 6,\n",
       "   'KDA': [6.3, 5.3, 6.9],\n",
       "   'gold': 9718,\n",
       "   'cs': 138.1,\n",
       "   'max_kill': 9,\n",
       "   'max_death': 8,\n",
       "   'ADD': 90411,\n",
       "   'ADT': 18071,\n",
       "   'double_kill': 1,\n",
       "   'triple_kill': 0,\n",
       "   'quadra_kill': 0,\n",
       "   'penta_kill': 0},\n",
       "  {'name': 'Shyvana',\n",
       "   'wins': 4,\n",
       "   'losses': 2,\n",
       "   'KDA': [6.3, 4.7, 8.0],\n",
       "   'gold': 10963,\n",
       "   'cs': 170.7,\n",
       "   'max_kill': 11,\n",
       "   'max_death': 12,\n",
       "   'ADD': 177659,\n",
       "   'ADT': 28842,\n",
       "   'double_kill': 2,\n",
       "   'triple_kill': 1,\n",
       "   'quadra_kill': 0,\n",
       "   'penta_kill': 0},\n",
       "  {'name': 'Jhin',\n",
       "   'wins': 3,\n",
       "   'losses': 3,\n",
       "   'KDA': [7.8, 6.0, 13.3],\n",
       "   'gold': 13462,\n",
       "   'cs': 197.0,\n",
       "   'max_kill': 11,\n",
       "   'max_death': 10,\n",
       "   'ADD': 162000,\n",
       "   'ADT': 21105,\n",
       "   'double_kill': 7,\n",
       "   'triple_kill': 1,\n",
       "   'quadra_kill': 0,\n",
       "   'penta_kill': 0},\n",
       "  {'name': 'Ezreal',\n",
       "   'wins': 1,\n",
       "   'losses': 4,\n",
       "   'KDA': [6.4, 6.4, 9.2],\n",
       "   'gold': 11557,\n",
       "   'cs': 166.2,\n",
       "   'max_kill': 15,\n",
       "   'max_death': 9,\n",
       "   'ADD': 115658,\n",
       "   'ADT': 19836,\n",
       "   'double_kill': 3,\n",
       "   'triple_kill': 0,\n",
       "   'quadra_kill': 0,\n",
       "   'penta_kill': 0},\n",
       "  {'name': 'Tristana',\n",
       "   'wins': 2,\n",
       "   'losses': 2,\n",
       "   'KDA': [6.8, 6.0, 7.8],\n",
       "   'gold': 11463,\n",
       "   'cs': 169.8,\n",
       "   'max_kill': 9,\n",
       "   'max_death': 9,\n",
       "   'ADD': 119354,\n",
       "   'ADT': 18229,\n",
       "   'double_kill': 1,\n",
       "   'triple_kill': 0,\n",
       "   'quadra_kill': 0,\n",
       "   'penta_kill': 0},\n",
       "  {'name': 'Maokai',\n",
       "   'wins': 1,\n",
       "   'losses': 2,\n",
       "   'KDA': [0.3, 4.0, 4.7],\n",
       "   'gold': 7909,\n",
       "   'cs': 150.3,\n",
       "   'max_kill': 1,\n",
       "   'max_death': 7,\n",
       "   'ADD': 90148,\n",
       "   'ADT': 20669,\n",
       "   'double_kill': 0,\n",
       "   'triple_kill': 0,\n",
       "   'quadra_kill': 0,\n",
       "   'penta_kill': 0},\n",
       "  {'name': 'Miss Fortune',\n",
       "   'wins': 0,\n",
       "   'losses': 3,\n",
       "   'KDA': [5.0, 7.7, 10.0],\n",
       "   'gold': 14476,\n",
       "   'cs': 257.3,\n",
       "   'max_kill': 6,\n",
       "   'max_death': 9,\n",
       "   'ADD': 212122,\n",
       "   'ADT': 27620,\n",
       "   'double_kill': 1,\n",
       "   'triple_kill': 1,\n",
       "   'quadra_kill': 0,\n",
       "   'penta_kill': 0},\n",
       "  {'name': 'Lulu',\n",
       "   'wins': 1,\n",
       "   'losses': 1,\n",
       "   'KDA': [5.5, 7.5, 6.5],\n",
       "   'gold': 9475,\n",
       "   'cs': 125.0,\n",
       "   'max_kill': 8,\n",
       "   'max_death': 8,\n",
       "   'ADD': 89810,\n",
       "   'ADT': 20505,\n",
       "   'double_kill': 1,\n",
       "   'triple_kill': 0,\n",
       "   'quadra_kill': 0,\n",
       "   'penta_kill': 0},\n",
       "  {'name': 'Leona',\n",
       "   'wins': 1,\n",
       "   'losses': 1,\n",
       "   'KDA': [2.5, 4.0, 17.0],\n",
       "   'gold': 7607,\n",
       "   'cs': 32.5,\n",
       "   'max_kill': 4,\n",
       "   'max_death': 4,\n",
       "   'ADD': 22082,\n",
       "   'ADT': 14468,\n",
       "   'double_kill': 1,\n",
       "   'triple_kill': 0,\n",
       "   'quadra_kill': 0,\n",
       "   'penta_kill': 0},\n",
       "  {'name': 'Xayah',\n",
       "   'wins': 1,\n",
       "   'losses': 0,\n",
       "   'KDA': [1.0, 7.0, 13.0],\n",
       "   'gold': 11230,\n",
       "   'cs': 169.0,\n",
       "   'max_kill': 1,\n",
       "   'max_death': 7,\n",
       "   'ADD': 126495,\n",
       "   'ADT': 22012,\n",
       "   'double_kill': 0,\n",
       "   'triple_kill': 0,\n",
       "   'quadra_kill': 0,\n",
       "   'penta_kill': 0},\n",
       "  {'name': 'Sejuani',\n",
       "   'wins': 1,\n",
       "   'losses': 0,\n",
       "   'KDA': [5.0, 2.0, 26.0],\n",
       "   'gold': 14744,\n",
       "   'cs': 175.0,\n",
       "   'max_kill': 5,\n",
       "   'max_death': 2,\n",
       "   'ADD': 190204,\n",
       "   'ADT': 53633,\n",
       "   'double_kill': 1,\n",
       "   'triple_kill': 0,\n",
       "   'quadra_kill': 0,\n",
       "   'penta_kill': 0},\n",
       "  {'name': 'Yasuo',\n",
       "   'wins': 0,\n",
       "   'losses': 1,\n",
       "   'KDA': [1.0, 8.0, 6.0],\n",
       "   'gold': 6573,\n",
       "   'cs': 114.0,\n",
       "   'max_kill': 1,\n",
       "   'max_death': 8,\n",
       "   'ADD': 68081,\n",
       "   'ADT': 23676,\n",
       "   'double_kill': 0,\n",
       "   'triple_kill': 0,\n",
       "   'quadra_kill': 0,\n",
       "   'penta_kill': 0},\n",
       "  {'name': 'Nautilus',\n",
       "   'wins': 0,\n",
       "   'losses': 1,\n",
       "   'KDA': [2.0, 7.0, 9.0],\n",
       "   'gold': 8696,\n",
       "   'cs': 60.0,\n",
       "   'max_kill': 2,\n",
       "   'max_death': 7,\n",
       "   'ADD': 53932,\n",
       "   'ADT': 28333,\n",
       "   'double_kill': 0,\n",
       "   'triple_kill': 0,\n",
       "   'quadra_kill': 0,\n",
       "   'penta_kill': 0},\n",
       "  {'name': 'Alistar',\n",
       "   'wins': 0,\n",
       "   'losses': 1,\n",
       "   'KDA': [0.0, 9.0, 6.0],\n",
       "   'gold': 2973,\n",
       "   'cs': 15.0,\n",
       "   'max_kill': 0,\n",
       "   'max_death': 9,\n",
       "   'ADD': 8886,\n",
       "   'ADT': 10906,\n",
       "   'double_kill': 0,\n",
       "   'triple_kill': 0,\n",
       "   'quadra_kill': 0,\n",
       "   'penta_kill': 0},\n",
       "  {'name': 'Zed',\n",
       "   'wins': 0,\n",
       "   'losses': 1,\n",
       "   'KDA': [7.0, 11.0, 4.0],\n",
       "   'gold': 11279,\n",
       "   'cs': 155.0,\n",
       "   'max_kill': 7,\n",
       "   'max_death': 11,\n",
       "   'ADD': 125647,\n",
       "   'ADT': 23931,\n",
       "   'double_kill': 0,\n",
       "   'triple_kill': 0,\n",
       "   'quadra_kill': 0,\n",
       "   'penta_kill': 0},\n",
       "  {'name': 'Irelia',\n",
       "   'wins': 0,\n",
       "   'losses': 1,\n",
       "   'KDA': [10.0, 8.0, 0.0],\n",
       "   'gold': 12586,\n",
       "   'cs': 196.0,\n",
       "   'max_kill': 10,\n",
       "   'max_death': 8,\n",
       "   'ADD': 152651,\n",
       "   'ADT': 33107,\n",
       "   'double_kill': 1,\n",
       "   'triple_kill': 0,\n",
       "   'quadra_kill': 0,\n",
       "   'penta_kill': 0},\n",
       "  {'name': 'Twisted Fate',\n",
       "   'wins': 0,\n",
       "   'losses': 1,\n",
       "   'KDA': [12.0, 8.0, 14.0],\n",
       "   'gold': 16387,\n",
       "   'cs': 154.0,\n",
       "   'max_kill': 12,\n",
       "   'max_death': 8,\n",
       "   'ADD': 157773,\n",
       "   'ADT': 35407,\n",
       "   'double_kill': 2,\n",
       "   'triple_kill': 1,\n",
       "   'quadra_kill': 0,\n",
       "   'penta_kill': 0},\n",
       "  {'name': 'Thresh',\n",
       "   'wins': 0,\n",
       "   'losses': 1,\n",
       "   'KDA': [2.0, 6.0, 10.0],\n",
       "   'gold': 5325,\n",
       "   'cs': 24.0,\n",
       "   'max_kill': 2,\n",
       "   'max_death': 6,\n",
       "   'ADD': 13067,\n",
       "   'ADT': 11007,\n",
       "   'double_kill': 0,\n",
       "   'triple_kill': 0,\n",
       "   'quadra_kill': 0,\n",
       "   'penta_kill': 0},\n",
       "  {'name': 'Shen',\n",
       "   'wins': 0,\n",
       "   'losses': 1,\n",
       "   'KDA': [5.0, 8.0, 20.0],\n",
       "   'gold': 11112,\n",
       "   'cs': 35.0,\n",
       "   'max_kill': 5,\n",
       "   'max_death': 8,\n",
       "   'ADD': 37102,\n",
       "   'ADT': 32254,\n",
       "   'double_kill': 0,\n",
       "   'triple_kill': 0,\n",
       "   'quadra_kill': 0,\n",
       "   'penta_kill': 0},\n",
       "  {'name': 'Kalista',\n",
       "   'wins': 0,\n",
       "   'losses': 1,\n",
       "   'KDA': [1.0, 5.0, 5.0],\n",
       "   'gold': 7824,\n",
       "   'cs': 173.0,\n",
       "   'max_kill': 1,\n",
       "   'max_death': 5,\n",
       "   'ADD': 78195,\n",
       "   'ADT': 16697,\n",
       "   'double_kill': 0,\n",
       "   'triple_kill': 0,\n",
       "   'quadra_kill': 0,\n",
       "   'penta_kill': 0},\n",
       "  {'name': 'Anivia',\n",
       "   'wins': 0,\n",
       "   'losses': 1,\n",
       "   'KDA': [1.0, 7.0, 4.0],\n",
       "   'gold': 6809,\n",
       "   'cs': 133.0,\n",
       "   'max_kill': 1,\n",
       "   'max_death': 7,\n",
       "   'ADD': 75097,\n",
       "   'ADT': 23700,\n",
       "   'double_kill': 0,\n",
       "   'triple_kill': 0,\n",
       "   'quadra_kill': 0,\n",
       "   'penta_kill': 0}]}"
      ]
     },
     "execution_count": 32,
     "metadata": {},
     "output_type": "execute_result"
    }
   ],
   "source": [
    "json.loads(r.get(summoner))"
   ]
  },
  {
   "cell_type": "code",
   "execution_count": 40,
   "metadata": {},
   "outputs": [],
   "source": [
    "from typing import Any, Callable, Iterable, List\n",
    "from collections import defaultdict\n",
    "from functools import partial\n",
    "import json"
   ]
  },
  {
   "cell_type": "code",
   "execution_count": 3,
   "metadata": {},
   "outputs": [],
   "source": [
    "import requests\n",
    "from bs4 import BeautifulSoup as bs"
   ]
  },
  {
   "cell_type": "code",
   "execution_count": 4,
   "metadata": {},
   "outputs": [],
   "source": [
    "url_summoner = 'https://www.op.gg/summoner/userName={name}'\n",
    "url_champions = 'https://www.op.gg/summoner/champions/userName={name}'"
   ]
  },
  {
   "cell_type": "code",
   "execution_count": 5,
   "metadata": {},
   "outputs": [],
   "source": [
    "from functools import wraps\n",
    "\n",
    "try:\n",
    "    import asyncio\n",
    "except (ImportError, SyntaxError):\n",
    "    asyncio = None\n",
    "\n",
    "\n",
    "class cached_property(object):\n",
    "    \"\"\"\n",
    "    A property that is only computed once per instance and then replaces itself\n",
    "    with an ordinary attribute. Deleting the attribute resets the property.\n",
    "    Source: https://github.com/bottlepy/bottle/commit/fa7733e075da0d790d809aa3d2f53071897e6f76\n",
    "    \"\"\"\n",
    "\n",
    "    def __init__(self, func):\n",
    "        self.__doc__ = getattr(func, \"__doc__\")\n",
    "        self.func = func\n",
    "\n",
    "    def __get__(self, obj, cls):\n",
    "        if obj is None:\n",
    "            return self\n",
    "\n",
    "        if asyncio and asyncio.iscoroutinefunction(self.func):\n",
    "            return self._wrap_in_coroutine(obj)\n",
    "\n",
    "        value = obj.__dict__[self.func.__name__] = self.func(obj)\n",
    "        return value\n",
    "\n",
    "    def _wrap_in_coroutine(self, obj):\n",
    "        @wraps(obj)\n",
    "        @asyncio.coroutine\n",
    "        def wrapper():\n",
    "            future = asyncio.ensure_future(self.func(obj))\n",
    "            obj.__dict__[self.func.__name__] = future\n",
    "            return future\n",
    "\n",
    "        return wrapper()"
   ]
  },
  {
   "cell_type": "code",
   "execution_count": 41,
   "metadata": {},
   "outputs": [],
   "source": [
    "class Serialize:\n",
    "    def __init__(self, *keys: List[str]):\n",
    "        self.keys = keys\n",
    "    \n",
    "    def serialize(self):\n",
    "        def _serialize(item):\n",
    "            if isinstance(item, Serialize):\n",
    "                return item.serialize()\n",
    "            elif isinstance(item, (list, tuple)):\n",
    "                return tuple(map(_serialize, item))\n",
    "            elif isinstance(item, dict):\n",
    "                return item\n",
    "            return item\n",
    "        \n",
    "        return json.dumps({\n",
    "            key: _serialize(getattr(self, key))\n",
    "            for key in self.keys\n",
    "        })"
   ]
  },
  {
   "cell_type": "code",
   "execution_count": 112,
   "metadata": {},
   "outputs": [],
   "source": [
    "summoner = Summoner('방관룰루')"
   ]
  },
  {
   "cell_type": "code",
   "execution_count": 118,
   "metadata": {},
   "outputs": [],
   "source": [
    "class Summoner(Serialize):\n",
    "    def __init__(self, name: str, lazy: bool = True):\n",
    "        super().__init__('id_opgg', 'mmr', 'wins', 'losses')\n",
    "        self.name = name\n",
    "    \n",
    "    def __str__(self):\n",
    "        return self.name\n",
    "    \n",
    "    def __repr__(self):\n",
    "        return f'Name: {self.name}'\n",
    "    \n",
    "    @cached_property\n",
    "    def context_summoner(self):\n",
    "        return bs(requests.get(url_summoner.format(name=self.name)).text, 'html.parser')\n",
    "    \n",
    "    @cached_property\n",
    "    def context_champions(self):\n",
    "        return bs(requests.get(url_champions.format(name=self.name)).text, 'html.parser')\n",
    "    \n",
    "    @cached_property\n",
    "    def info(self):\n",
    "        def rank_to_mmr(rank):\n",
    "            ranks = ['Iron', 'Bronze', 'Silver', 'Gold', 'Platinum', 'Diamond', 'Master', 'GrandMaster', 'Challenger']\n",
    "            rank_name, *rank_index = rank.split(' ')\n",
    "            rank_index, *_ = rank_index or (0,)\n",
    "            \n",
    "            # Ignore GrandMaster and Challenger index\n",
    "            return (min(ranks.index(rank_name), 6) + 1) * 400 - int(rank_index) * 100\n",
    "\n",
    "        rank = self.context_summoner.find('div', {'class': 'TierRank'}).text.strip()\n",
    "\n",
    "        # Ignore Unranked\n",
    "        if rank == 'Unranked':\n",
    "            return 0, 0, 0\n",
    "\n",
    "        rank_points, *_ = self.context_summoner.find('span', {'class': 'LeaguePoints'}).text.split(' ')\n",
    "\n",
    "        wins = int(self.context_summoner.find('span', {'class': 'wins'}).text[:-1])\n",
    "        losses = int(self.context_summoner.find('span', {'class': 'losses'}).text[:-1])\n",
    "        mmr = rank_to_mmr(rank) + int(rank_points)\n",
    "\n",
    "        return mmr, wins, losses\n",
    "    \n",
    "    @cached_property\n",
    "    def id_opgg(self):\n",
    "        return self.context_summoner.find('div', {'class': 'GameListContainer'})['data-summoner-id']\n",
    "    \n",
    "    @cached_property\n",
    "    def mmr(self):\n",
    "        return self.info[0]\n",
    "    \n",
    "    @cached_property\n",
    "    def wins(self):\n",
    "        return self.info[1]\n",
    "\n",
    "    @cached_property\n",
    "    def losses(self):\n",
    "        return self.info[2]\n",
    "\n",
    "    @cached_property\n",
    "    def champions(self):\n",
    "        return tuple(map(partial(Champion, self), self.context_champions.findAll('tr', {'class', 'Row'})[1:]))\n",
    "    \n",
    "    @property\n",
    "    def played_with(self):\n",
    "        for div in self.context_summoner.findAll('div', {'class': 'SummonerName'}):\n",
    "            yield Summoner(div.text.strip())"
   ]
  },
  {
   "cell_type": "code",
   "execution_count": 119,
   "metadata": {},
   "outputs": [],
   "source": [
    "class Champion(Serialize):\n",
    "    def __init__(self, summoner: Summoner, context):\n",
    "        super().__init__('name', 'wins', 'losses', 'KDA', 'gold', 'cs', 'max_kill', 'max_death', 'ADD', 'ADT', \n",
    "                         'double_kill', 'triple_kill', 'quadra_kill', 'penta_kill');\n",
    "        self.summoner = summoner\n",
    "        self.context = context\n",
    "    \n",
    "    def __str__(self):\n",
    "        return self.name\n",
    "    \n",
    "    def __repr__(self):\n",
    "        return f'{self.name} ({self.summoner})'\n",
    "    \n",
    "    @cached_property\n",
    "    def name(self):\n",
    "        return self.context.find('td', {'class', 'ChampionName'}).text.strip()\n",
    "    @cached_property\n",
    "    def wins(self):\n",
    "        return int(self.extract(self.context.find('div', {'class': 'Text Left'}), '0W')[:-1])\n",
    "    @cached_property\n",
    "    def losses(self):\n",
    "        return int(self.extract(self.context.find('div', {'class': 'Text Right'}), '0L')[:-1])\n",
    "    @cached_property\n",
    "    def KDA(self):\n",
    "        return tuple(map(float, self.context.find('div', {'class': 'KDA'}).text.replace('/', '').split()))\n",
    "    @cached_property\n",
    "    def extras(self):\n",
    "        return tuple(map(lambda v: self.refine(v.replace(',', ''), 0), \n",
    "                         map(str.strip, (\n",
    "                             map(self.extract, self.context.findAll('td', {'class', 'Value Cell'}))))))\n",
    "    @cached_property\n",
    "    def gold(self):\n",
    "        return self.extras[0]\n",
    "    @cached_property\n",
    "    def cs(self):\n",
    "        return self.extras[1]\n",
    "    @cached_property\n",
    "    def max_kill(self):\n",
    "        return self.extras[2]\n",
    "    @cached_property\n",
    "    def max_death(self):\n",
    "        return self.extras[3]\n",
    "    @cached_property\n",
    "    def ADD(self):\n",
    "        return self.extras[4]\n",
    "    @cached_property\n",
    "    def ADT(self):\n",
    "        return self.extras[5]\n",
    "    @cached_property\n",
    "    def double_kill(self):\n",
    "        return self.extras[6]\n",
    "    @cached_property\n",
    "    def triple_kill(self):\n",
    "        return self.extras[7]\n",
    "    @cached_property\n",
    "    def quadra_kill(self):\n",
    "        return self.extras[8]\n",
    "    @cached_property\n",
    "    def penta_kill(self):\n",
    "        return self.extras[9]\n",
    "    \n",
    "    @staticmethod\n",
    "    def extract(node, default=''):\n",
    "        try:\n",
    "            return node.text\n",
    "        except AttributeError:\n",
    "            return default\n",
    "\n",
    "    @staticmethod\n",
    "    def refine(value, default=''):\n",
    "        try:\n",
    "            return int(value)\n",
    "        except ValueError:\n",
    "            try:\n",
    "                return float(value)\n",
    "            except:\n",
    "                return default"
   ]
  },
  {
   "cell_type": "code",
   "execution_count": 120,
   "metadata": {},
   "outputs": [],
   "source": [
    "summoner = Summoner('방관룰루')"
   ]
  },
  {
   "cell_type": "code",
   "execution_count": 121,
   "metadata": {},
   "outputs": [
    {
     "data": {
      "text/plain": [
       "1375"
      ]
     },
     "execution_count": 121,
     "metadata": {},
     "output_type": "execute_result"
    }
   ],
   "source": [
    "summoner.mmr"
   ]
  },
  {
   "cell_type": "code",
   "execution_count": 122,
   "metadata": {},
   "outputs": [
    {
     "data": {
      "text/plain": [
       "'17561736'"
      ]
     },
     "execution_count": 122,
     "metadata": {},
     "output_type": "execute_result"
    }
   ],
   "source": [
    "summoner.id_opgg"
   ]
  },
  {
   "cell_type": "code",
   "execution_count": 123,
   "metadata": {},
   "outputs": [
    {
     "data": {
      "text/plain": [
       "'{\"id_opgg\": \"17561736\", \"mmr\": 1375, \"wins\": 36, \"losses\": 36}'"
      ]
     },
     "execution_count": 123,
     "metadata": {},
     "output_type": "execute_result"
    }
   ],
   "source": [
    "summoner.serialize()"
   ]
  },
  {
   "cell_type": "code",
   "execution_count": null,
   "metadata": {},
   "outputs": [],
   "source": []
  },
  {
   "cell_type": "code",
   "execution_count": null,
   "metadata": {},
   "outputs": [],
   "source": [
    "summoner = Summoner('Maydev')\n",
    "summoner_names = {'Maydev': summoner}\n",
    "summoner_crawled = {summoner: False}"
   ]
  },
  {
   "cell_type": "code",
   "execution_count": null,
   "metadata": {},
   "outputs": [],
   "source": [
    "summoner.champions"
   ]
  },
  {
   "cell_type": "code",
   "execution_count": null,
   "metadata": {},
   "outputs": [],
   "source": []
  },
  {
   "cell_type": "code",
   "execution_count": null,
   "metadata": {},
   "outputs": [],
   "source": [
    "{\n",
    "    'ChampionName'\n",
    "}"
   ]
  },
  {
   "cell_type": "code",
   "execution_count": null,
   "metadata": {},
   "outputs": [],
   "source": [
    "'3'"
   ]
  },
  {
   "cell_type": "code",
   "execution_count": null,
   "metadata": {},
   "outputs": [],
   "source": [
    "int('3.2')"
   ]
  },
  {
   "cell_type": "code",
   "execution_count": null,
   "metadata": {},
   "outputs": [],
   "source": []
  },
  {
   "cell_type": "code",
   "execution_count": null,
   "metadata": {},
   "outputs": [],
   "source": [
    "def extract(node, default=''):\n",
    "    try:\n",
    "        return node.text\n",
    "    except AttributeError:\n",
    "        return default"
   ]
  },
  {
   "cell_type": "code",
   "execution_count": null,
   "metadata": {},
   "outputs": [],
   "source": [
    "def refine(value, default=''):\n",
    "    try:\n",
    "        return int(value)\n",
    "    except ValueError:\n",
    "        try:\n",
    "            return float(value)\n",
    "        except:\n",
    "            return default"
   ]
  },
  {
   "cell_type": "code",
   "execution_count": null,
   "metadata": {},
   "outputs": [],
   "source": []
  },
  {
   "cell_type": "code",
   "execution_count": null,
   "metadata": {},
   "outputs": [],
   "source": [
    "list(map(partial(extract, default=0), e.findAll('td', {'class', 'Value Cell'})))"
   ]
  },
  {
   "cell_type": "code",
   "execution_count": null,
   "metadata": {},
   "outputs": [],
   "source": [
    "map(float, map(lambda tag: tag.text.strip().replace(',', ''), e.findAll('td', {'class', 'Value Cell'})))"
   ]
  },
  {
   "cell_type": "code",
   "execution_count": null,
   "metadata": {},
   "outputs": [],
   "source": [
    "gold, cs, maxkill, maxdeaths, add, adt, kill_2, kill_3, kill_4, kill_5 = map(float, map(lambda tag: tag.text.strip().replace(',', ''), e.findAll('td', {'class', 'Value Cell'})))"
   ]
  },
  {
   "cell_type": "code",
   "execution_count": null,
   "metadata": {},
   "outputs": [],
   "source": [
    "float"
   ]
  },
  {
   "cell_type": "code",
   "execution_count": null,
   "metadata": {},
   "outputs": [],
   "source": []
  },
  {
   "cell_type": "code",
   "execution_count": null,
   "metadata": {},
   "outputs": [],
   "source": []
  },
  {
   "cell_type": "code",
   "execution_count": null,
   "metadata": {},
   "outputs": [],
   "source": []
  },
  {
   "cell_type": "code",
   "execution_count": null,
   "metadata": {},
   "outputs": [],
   "source": [
    "for e in v[1:]:\n",
    "    print(e.find('td', {'class': 'ChampionName'}).text)"
   ]
  },
  {
   "cell_type": "code",
   "execution_count": null,
   "metadata": {},
   "outputs": [],
   "source": [
    "while True:\n",
    "    if len(summoner_names) > 100:\n",
    "        break\n",
    "    \n",
    "    user = next(summoner for summoner, value in summoner_crawled.items() if not value)\n",
    "    summoner_crawled[user] = True\n",
    "    \n",
    "    for summoner_name in user.played_with:\n",
    "        if summoner_name not in summoner_names:\n",
    "            summoner = Summoner(summoner_name)\n",
    "            summoner_names[summoner_name] = summoner\n",
    "            summoner_crawled[summoner] = False"
   ]
  },
  {
   "cell_type": "code",
   "execution_count": null,
   "metadata": {},
   "outputs": [],
   "source": []
  },
  {
   "cell_type": "code",
   "execution_count": null,
   "metadata": {},
   "outputs": [],
   "source": [
    "print('home')"
   ]
  },
  {
   "cell_type": "code",
   "execution_count": null,
   "metadata": {},
   "outputs": [],
   "source": []
  }
 ],
 "metadata": {
  "kernelspec": {
   "display_name": "Python 3",
   "language": "python",
   "name": "python3"
  },
  "language_info": {
   "codemirror_mode": {
    "name": "ipython",
    "version": 3
   },
   "file_extension": ".py",
   "mimetype": "text/x-python",
   "name": "python",
   "nbconvert_exporter": "python",
   "pygments_lexer": "ipython3",
   "version": "3.7.7"
  }
 },
 "nbformat": 4,
 "nbformat_minor": 4
}
